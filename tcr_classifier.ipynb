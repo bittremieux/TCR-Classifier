{
 "cells": [
  {
   "cell_type": "code",
   "execution_count": 1,
   "metadata": {
    "code_folding": [],
    "collapsed": true
   },
   "outputs": [],
   "source": [
    "# A computational approach to discover CD8+ T-cell receptor characteristics underlying peptide recognition"
   ]
  },
  {
   "cell_type": "markdown",
   "metadata": {},
   "source": [
    "**TODO**: general introduction about this notebook"
   ]
  },
  {
   "cell_type": "code",
   "execution_count": 2,
   "metadata": {
    "collapsed": false
   },
   "outputs": [
    {
     "name": "stdout",
     "output_type": "stream",
     "text": [
      "reading in boruta\n"
     ]
    }
   ],
   "source": [
    "# imports\n",
    "import joblib\n",
    "import matplotlib\n",
    "import matplotlib.pyplot as plt\n",
    "import numpy as np\n",
    "import pandas as pd\n",
    "import seaborn as sns\n",
    "import warnings\n",
    "from boruta import BorutaPy\n",
    "from IPython import display\n",
    "from pyteomics import electrochem, mass, parser\n",
    "from sklearn import ensemble, feature_extraction, metrics, model_selection, pipeline, preprocessing\n",
    "%matplotlib inline\n",
    "\n",
    "pd.options.display.max_rows = 20\n",
    "\n",
    "matplotlib.rcParams['font.family'] = 'sans-serif'\n",
    "matplotlib.rcParams['font.size'] = 6"
   ]
  },
  {
   "cell_type": "markdown",
   "metadata": {},
   "source": [
    "## Functions"
   ]
  },
  {
   "cell_type": "code",
   "execution_count": 3,
   "metadata": {
    "collapsed": true
   },
   "outputs": [],
   "source": [
    "def split_rows(df, column, symbol):\n",
    "    \n",
    "    ''' Given a dataframe, the name of a column in the dataframe and a symbol to split on:\n",
    "    Split rows in two rows if that row's column value contains the symbol to split on.\n",
    "    Each new row is identical to the original except for the column value which is replaced by one of its split parts.\n",
    "    '''\n",
    "    \n",
    "    s = df[column].str.split(symbol, expand=True).stack()\n",
    "    i = s.index.get_level_values(0)\n",
    "    df2 = df.loc[i].copy()\n",
    "    df2[column] = s.values\n",
    "    return df2\n",
    "\n",
    "def gene_to_family(gene):\n",
    "    \n",
    "    ''' Format V- and J-genes to be encoded uniformly and reduce to family level. '''\n",
    "    \n",
    "    gene_string = str(gene)\n",
    "    if gene_string == 'unresolved':\n",
    "        return gene_string\n",
    "    if '-' in gene_string:\n",
    "        gene_string = gene_string.split('-')[0]\n",
    "    if len(gene_string) == 1 and int(gene_string):\n",
    "        gene_string = '0'+gene_string\n",
    "        \n",
    "    return gene_string\n",
    "\n",
    "def uniformise_gene(gene):\n",
    "    \n",
    "    ''' Uniformly encode genes as XX-XX (if family+ gene known) \n",
    "    or XX (if only family known) where each X represents an integer. '''\n",
    "\n",
    "    gene = str(gene)\n",
    "    if gene == 'unresolved':\n",
    "        return gene\n",
    "    if '-' in gene:\n",
    "        for part in set(gene.split('-')):\n",
    "            if len(part) == 1 and int(part):\n",
    "                gene = gene.replace(part, '0'+part)\n",
    "    elif len(gene) == 1 and int(gene):\n",
    "        gene = '0'+gene\n",
    "        \n",
    "    return gene"
   ]
  },
  {
   "cell_type": "markdown",
   "metadata": {},
   "source": [
    "## Input data\n",
    "\n",
    "**TODO**: short explanation about what the data is"
   ]
  },
  {
   "cell_type": "code",
   "execution_count": 4,
   "metadata": {
    "collapsed": false
   },
   "outputs": [
    {
     "data": {
      "text/html": [
       "<div>\n",
       "<table border=\"1\" class=\"dataframe\">\n",
       "  <thead>\n",
       "    <tr style=\"text-align: right;\">\n",
       "      <th></th>\n",
       "      <th>V_gene</th>\n",
       "      <th>CDR3_sequence</th>\n",
       "      <th>J_gene</th>\n",
       "      <th>HLA_peptide</th>\n",
       "      <th>V_family</th>\n",
       "      <th>J_family</th>\n",
       "    </tr>\n",
       "  </thead>\n",
       "  <tbody>\n",
       "    <tr>\n",
       "      <th>0</th>\n",
       "      <td>27</td>\n",
       "      <td>CASSPNGDRVFDQPQHF</td>\n",
       "      <td>01-05</td>\n",
       "      <td>EIYKRWII</td>\n",
       "      <td>27</td>\n",
       "      <td>01</td>\n",
       "    </tr>\n",
       "    <tr>\n",
       "      <th>1</th>\n",
       "      <td>09</td>\n",
       "      <td>CASSVVGDGRETQYF</td>\n",
       "      <td>02-05</td>\n",
       "      <td>EIYKRWII</td>\n",
       "      <td>09</td>\n",
       "      <td>02</td>\n",
       "    </tr>\n",
       "    <tr>\n",
       "      <th>2</th>\n",
       "      <td>09</td>\n",
       "      <td>CASSEGQGTTYEQYF</td>\n",
       "      <td>02-05</td>\n",
       "      <td>EIYKRWII</td>\n",
       "      <td>09</td>\n",
       "      <td>02</td>\n",
       "    </tr>\n",
       "    <tr>\n",
       "      <th>3</th>\n",
       "      <td>02</td>\n",
       "      <td>CASSEAATGRGNQPQHF</td>\n",
       "      <td>01-05</td>\n",
       "      <td>EIYKRWII</td>\n",
       "      <td>02</td>\n",
       "      <td>01</td>\n",
       "    </tr>\n",
       "    <tr>\n",
       "      <th>4</th>\n",
       "      <td>09</td>\n",
       "      <td>CASSVLHGRQETQYF</td>\n",
       "      <td>02-05</td>\n",
       "      <td>EIYKRWII</td>\n",
       "      <td>09</td>\n",
       "      <td>02</td>\n",
       "    </tr>\n",
       "    <tr>\n",
       "      <th>5</th>\n",
       "      <td>02</td>\n",
       "      <td>CASSPPMGRAEGYTF</td>\n",
       "      <td>01-02</td>\n",
       "      <td>EIYKRWII</td>\n",
       "      <td>02</td>\n",
       "      <td>01</td>\n",
       "    </tr>\n",
       "    <tr>\n",
       "      <th>6</th>\n",
       "      <td>07-09</td>\n",
       "      <td>CASSFLRLAGGRDEQFF</td>\n",
       "      <td>02-01</td>\n",
       "      <td>EIYKRWII</td>\n",
       "      <td>07</td>\n",
       "      <td>02</td>\n",
       "    </tr>\n",
       "    <tr>\n",
       "      <th>7</th>\n",
       "      <td>02</td>\n",
       "      <td>CASSENSLGRGLVKTQYF</td>\n",
       "      <td>02-05</td>\n",
       "      <td>EIYKRWII</td>\n",
       "      <td>02</td>\n",
       "      <td>02</td>\n",
       "    </tr>\n",
       "    <tr>\n",
       "      <th>8</th>\n",
       "      <td>07-08</td>\n",
       "      <td>CASSLLDGTRETQYF</td>\n",
       "      <td>02-05</td>\n",
       "      <td>EIYKRWII</td>\n",
       "      <td>07</td>\n",
       "      <td>02</td>\n",
       "    </tr>\n",
       "    <tr>\n",
       "      <th>9</th>\n",
       "      <td>09</td>\n",
       "      <td>CASSVAGDDRETQYF</td>\n",
       "      <td>02-05</td>\n",
       "      <td>EIYKRWII</td>\n",
       "      <td>09</td>\n",
       "      <td>02</td>\n",
       "    </tr>\n",
       "    <tr>\n",
       "      <th>...</th>\n",
       "      <td>...</td>\n",
       "      <td>...</td>\n",
       "      <td>...</td>\n",
       "      <td>...</td>\n",
       "      <td>...</td>\n",
       "      <td>...</td>\n",
       "    </tr>\n",
       "    <tr>\n",
       "      <th>227</th>\n",
       "      <td>07-09</td>\n",
       "      <td>CASSLGDLYTGELFF</td>\n",
       "      <td>02-02</td>\n",
       "      <td>FLKEKGGL</td>\n",
       "      <td>07</td>\n",
       "      <td>02</td>\n",
       "    </tr>\n",
       "    <tr>\n",
       "      <th>228</th>\n",
       "      <td>06-04</td>\n",
       "      <td>CASSDSGAGTPNGYTF</td>\n",
       "      <td>01-02</td>\n",
       "      <td>FLKEKGGL</td>\n",
       "      <td>06</td>\n",
       "      <td>01</td>\n",
       "    </tr>\n",
       "    <tr>\n",
       "      <th>229</th>\n",
       "      <td>06-02</td>\n",
       "      <td>CASSYLAGQGAPYSNQPQHF</td>\n",
       "      <td>01-05</td>\n",
       "      <td>FLKEKGGL</td>\n",
       "      <td>06</td>\n",
       "      <td>01</td>\n",
       "    </tr>\n",
       "    <tr>\n",
       "      <th>230</th>\n",
       "      <td>06-03</td>\n",
       "      <td>CASSYLAGQGAPYSNQPQHF</td>\n",
       "      <td>01-05</td>\n",
       "      <td>FLKEKGGL</td>\n",
       "      <td>06</td>\n",
       "      <td>01</td>\n",
       "    </tr>\n",
       "    <tr>\n",
       "      <th>231</th>\n",
       "      <td>07-09</td>\n",
       "      <td>CASSLVPDTQYF</td>\n",
       "      <td>02-01</td>\n",
       "      <td>FLKEKGGL</td>\n",
       "      <td>07</td>\n",
       "      <td>02</td>\n",
       "    </tr>\n",
       "    <tr>\n",
       "      <th>232</th>\n",
       "      <td>07-09</td>\n",
       "      <td>CASSLAPGTSGSPYNEQFF</td>\n",
       "      <td>02-01</td>\n",
       "      <td>FLKEKGGL</td>\n",
       "      <td>07</td>\n",
       "      <td>02</td>\n",
       "    </tr>\n",
       "    <tr>\n",
       "      <th>233</th>\n",
       "      <td>14</td>\n",
       "      <td>CASSLGTGIANYGYTF</td>\n",
       "      <td>02-01</td>\n",
       "      <td>FLKEKGGL</td>\n",
       "      <td>14</td>\n",
       "      <td>02</td>\n",
       "    </tr>\n",
       "    <tr>\n",
       "      <th>234</th>\n",
       "      <td>14</td>\n",
       "      <td>CASSLGTGIANYGYTF</td>\n",
       "      <td>02-01</td>\n",
       "      <td>FLKEKGGL</td>\n",
       "      <td>14</td>\n",
       "      <td>02</td>\n",
       "    </tr>\n",
       "    <tr>\n",
       "      <th>235</th>\n",
       "      <td>24-01</td>\n",
       "      <td>CATKGTGLYNEQFF</td>\n",
       "      <td>02-01</td>\n",
       "      <td>FLKEKGGL</td>\n",
       "      <td>24</td>\n",
       "      <td>02</td>\n",
       "    </tr>\n",
       "    <tr>\n",
       "      <th>236</th>\n",
       "      <td>07-09</td>\n",
       "      <td>CASSLAPGTSGSPYNEQFF</td>\n",
       "      <td>02-01</td>\n",
       "      <td>FLKEKGGL</td>\n",
       "      <td>07</td>\n",
       "      <td>02</td>\n",
       "    </tr>\n",
       "  </tbody>\n",
       "</table>\n",
       "<p>237 rows × 6 columns</p>\n",
       "</div>"
      ],
      "text/plain": [
       "    V_gene         CDR3_sequence J_gene HLA_peptide V_family J_family\n",
       "0       27     CASSPNGDRVFDQPQHF  01-05    EIYKRWII       27       01\n",
       "1       09       CASSVVGDGRETQYF  02-05    EIYKRWII       09       02\n",
       "2       09       CASSEGQGTTYEQYF  02-05    EIYKRWII       09       02\n",
       "3       02     CASSEAATGRGNQPQHF  01-05    EIYKRWII       02       01\n",
       "4       09       CASSVLHGRQETQYF  02-05    EIYKRWII       09       02\n",
       "5       02       CASSPPMGRAEGYTF  01-02    EIYKRWII       02       01\n",
       "6    07-09     CASSFLRLAGGRDEQFF  02-01    EIYKRWII       07       02\n",
       "7       02    CASSENSLGRGLVKTQYF  02-05    EIYKRWII       02       02\n",
       "8    07-08       CASSLLDGTRETQYF  02-05    EIYKRWII       07       02\n",
       "9       09       CASSVAGDDRETQYF  02-05    EIYKRWII       09       02\n",
       "..     ...                   ...    ...         ...      ...      ...\n",
       "227  07-09       CASSLGDLYTGELFF  02-02    FLKEKGGL       07       02\n",
       "228  06-04      CASSDSGAGTPNGYTF  01-02    FLKEKGGL       06       01\n",
       "229  06-02  CASSYLAGQGAPYSNQPQHF  01-05    FLKEKGGL       06       01\n",
       "230  06-03  CASSYLAGQGAPYSNQPQHF  01-05    FLKEKGGL       06       01\n",
       "231  07-09          CASSLVPDTQYF  02-01    FLKEKGGL       07       02\n",
       "232  07-09   CASSLAPGTSGSPYNEQFF  02-01    FLKEKGGL       07       02\n",
       "233     14      CASSLGTGIANYGYTF  02-01    FLKEKGGL       14       02\n",
       "234     14      CASSLGTGIANYGYTF  02-01    FLKEKGGL       14       02\n",
       "235  24-01        CATKGTGLYNEQFF  02-01    FLKEKGGL       24       02\n",
       "236  07-09   CASSLAPGTSGSPYNEQFF  02-01    FLKEKGGL       07       02\n",
       "\n",
       "[237 rows x 6 columns]"
      ]
     },
     "metadata": {},
     "output_type": "display_data"
    }
   ],
   "source": [
    "data = pd.read_csv('data.csv')\n",
    "\n",
    "# don't split on J_gene because J_gene column doesn't contain splits\n",
    "data = split_rows(data, 'V_gene', '/').reset_index(drop=True)\n",
    "for gene in ['V_gene', 'J_gene']:\n",
    "    data[gene] = data[gene].apply(lambda x:uniformise_gene(x))\n",
    "    data[gene.replace('gene','family')] = data[gene].apply(lambda x: gene_to_family(x))\n",
    "display.display(data)"
   ]
  },
  {
   "cell_type": "markdown",
   "metadata": {},
   "source": [
    "## Feature generation\n",
    "\n",
    "**TODO**: verify and update details on feature generation\n",
    "\n",
    "Various features were constructed:\n",
    "* The prefix and postfix categorical attributes were one-hot encoded. This is useful because most classification algorithms are not able to deal with categorical features but require numerical features instead.\n",
    "* The sequence length (computed by [Pyteomics](https://pythonhosted.org/pyteomics/) [Goloborodko2013], modX notation allowed).\n",
    "* The number of times each amino acid occurs in the sequence.\n",
    "* The average of the chemical properties (basicity, hydrophobicity, helicity) and the substitution of the individual amino acids in the sequence, normalized by the sequence length.\n",
    "* The pI of the full sequence (computed by [Pyteomics](https://pythonhosted.org/pyteomics/)).\n",
    "* The peptide mass (computed by [Pyteomics](https://pythonhosted.org/pyteomics/)).\n",
    "* Individual features of each amino acid at specific positions in the sequences:\n",
    "    * For sequences with an odd length, the center amino acid is assigned index `0`, with ascending indices to the right and descending indices to the left. For sequences with an even length there is no `0` index, but the center two amino acids have index `-1` and `1`.\n",
    "    * For each position the following features are generated: which amino acid occurs at this position; the basicity, hydrophobicity, helicity, pI, and substitution value for the amino acid at this position.\n",
    "    \n",
    "In total this results in 417 different features for each sequence.\n",
    "\n",
    "[Goloborodko2013] Goloborodko, A. A., Levitsky, L. I., Ivanov, M. V. & Gorshkov, M. V. Pyteomics-a Python framework for exploratory data analysis and rapid software prototyping in proteomics. *Journal of The American Society for Mass Spectrometry* **24**, 301–304 (2013)."
   ]
  },
  {
   "cell_type": "code",
   "execution_count": 5,
   "metadata": {
    "collapsed": true
   },
   "outputs": [],
   "source": [
    "# physicochemical amino acid properties\n",
    "basicity = {'A': 206.4, 'B': 210.7, 'C': 206.2, 'D': 208.6, 'E': 215.6, 'F': 212.1, 'G': 202.7,\n",
    "            'H': 223.7, 'I': 210.8, 'K': 221.8, 'L': 209.6, 'M': 213.3, 'N': 212.8, 'P': 214.4,\n",
    "            'Q': 214.2, 'R': 237.0, 'S': 207.6, 'T': 211.7, 'V': 208.7, 'W': 216.1, 'X': 210.2,\n",
    "            'Y': 213.1, 'Z': 214.9}\n",
    "\n",
    "hydrophobicity = {'A': 0.16, 'B': -3.14, 'C': 2.50, 'D': -2.49, 'E': -1.50, 'F': 5.00, 'G': -3.31,\n",
    "                  'H': -4.63, 'I': 4.41, 'K': -5.00, 'L': 4.76, 'M': 3.23, 'N': -3.79, 'P': -4.92,\n",
    "                  'Q': -2.76, 'R': -2.77, 'S': -2.85, 'T': -1.08, 'V': 3.02, 'W': 4.88, 'X': 4.59,\n",
    "                  'Y': 2.00, 'Z': -2.13}\n",
    "\n",
    "helicity = {'A': 1.24, 'B': 0.92, 'C': 0.79, 'D': 0.89, 'E': 0.85, 'F': 1.26, 'G': 1.15, 'H': 0.97,\n",
    "            'I': 1.29, 'K': 0.88, 'L': 1.28, 'M': 1.22, 'N': 0.94, 'P': 0.57, 'Q': 0.96, 'R': 0.95,\n",
    "            'S': 1.00, 'T': 1.09, 'V': 1.27, 'W': 1.07, 'X': 1.29, 'Y': 1.11, 'Z': 0.91}\n",
    "\n",
    "mutation_stability = {'A': 13, 'C': 52, 'D': 11, 'E': 12, 'F': 32, 'G': 27, 'H': 15, 'I': 10,\n",
    "                      'K': 24, 'L': 34, 'M':  6, 'N':  6, 'P': 20, 'Q': 10, 'R': 17, 'S': 10,\n",
    "                      'T': 11, 'V': 17, 'W': 55, 'Y': 31}"
   ]
  },
  {
   "cell_type": "code",
   "execution_count": 6,
   "metadata": {
    "collapsed": false,
    "scrolled": false
   },
   "outputs": [
    {
     "name": "stdout",
     "output_type": "stream",
     "text": [
      "Samples: 237 - features: 443\n"
     ]
    }
   ],
   "source": [
    "# feature conversion and generation\n",
    "features_list = []\n",
    "\n",
    "# numeric encoding of the HLA_peptide class labels\n",
    "features_list.append(pd.DataFrame(preprocessing.LabelEncoder().fit_transform(data['HLA_peptide']),\n",
    "                                  columns=['HLA_peptide']))\n",
    "\n",
    "# one-hot encoding of pre and post\n",
    "onehot_encoder = feature_extraction.DictVectorizer(sparse=False)\n",
    "features_list.append(pd.DataFrame(\n",
    "        onehot_encoder.fit_transform(data[['V_gene', 'J_gene', 'V_family', 'J_family']].to_dict(orient='records')),\n",
    "        columns=onehot_encoder.feature_names_))\n",
    "\n",
    "# sequence length\n",
    "features_list.append(data['CDR3_sequence'].apply(\n",
    "        lambda sequence: parser.length(sequence)).to_frame()\n",
    "                     .rename(columns={'CDR3_sequence': 'length'}))\n",
    "\n",
    "# number of occurences of each amino acid\n",
    "aa_counts = pd.DataFrame.from_records(\n",
    "    [parser.amino_acid_composition(sequence) for sequence in data['CDR3_sequence']]).fillna(0)\n",
    "aa_counts.columns = ['count_{}'.format(column) for column in aa_counts.columns]\n",
    "features_list.append(aa_counts)\n",
    "\n",
    "# physicochemical properties: (average) basicity, (average) hydrophobicity,\n",
    "#                             (average) helicity, pI, (average) mutation stability\n",
    "features_list.append(data['CDR3_sequence'].apply(\n",
    "        lambda seq: sum([basicity[aa] for aa in seq]) / parser.length(seq))\n",
    "                     .to_frame().rename(columns={'CDR3_sequence': 'avg_basicity'}))\n",
    "features_list.append(data['CDR3_sequence'].apply(\n",
    "        lambda seq: sum([hydrophobicity[aa] for aa in seq]) / parser.length(seq))\n",
    "                     .to_frame().rename(columns={'CDR3_sequence': 'avg_hydrophobicity'}))\n",
    "features_list.append(data['CDR3_sequence'].apply(\n",
    "        lambda seq: sum([helicity[aa] for aa in seq]) / parser.length(seq))\n",
    "                     .to_frame().rename(columns={'CDR3_sequence': 'avg_helicity'}))\n",
    "features_list.append(data['CDR3_sequence'].apply(\n",
    "        lambda seq: electrochem.pI(seq)).to_frame().rename(columns={'CDR3_sequence': 'pI'}))\n",
    "features_list.append(data['CDR3_sequence'].apply(\n",
    "        lambda seq: sum([mutation_stability[aa] for aa in seq]) / parser.length(seq))\n",
    "                     .to_frame().rename(columns={'CDR3_sequence': 'avg_mutation_stability'}))\n",
    "\n",
    "# peptide mass\n",
    "features_list.append(data['CDR3_sequence'].apply(\n",
    "        lambda seq: mass.fast_mass(seq)).to_frame().rename(columns={'CDR3_sequence': 'mass'}))\n",
    "\n",
    "# positional features\n",
    "# amino acid occurence and physicochemical properties at a given position from the center\n",
    "pos_aa, pos_basicity, pos_hydro, pos_helicity, pos_pI, pos_mutation = [[] for _ in range(6)]\n",
    "for sequence in data['CDR3_sequence']:\n",
    "    length = parser.length(sequence)\n",
    "    start_pos = -1 * (length // 2)\n",
    "    pos_range = list(range(start_pos, start_pos + length)) if length % 2 == 1 else\\\n",
    "                list(range(start_pos, 0)) + list(range(1, start_pos + length + 1))\n",
    "    \n",
    "    pos_aa.append({'pos_{}_{}'.format(pos, aa): 1\n",
    "                   for pos, aa in zip(pos_range, sequence)})\n",
    "    pos_basicity.append({'pos_{}_basicity'.format(pos): basicity[aa]\n",
    "                         for pos, aa in zip(pos_range, sequence)})\n",
    "    pos_hydro.append({'pos_{}_hydrophobicity'.format(pos): hydrophobicity[aa]\n",
    "                      for pos, aa in zip(pos_range, sequence)})\n",
    "    pos_helicity.append({'pos_{}_helicity'.format(pos): helicity[aa]\n",
    "                         for pos, aa in zip(pos_range, sequence)})\n",
    "    pos_pI.append({'pos_{}_pI'.format(pos): electrochem.pI(aa)\n",
    "                   for pos, aa in zip(pos_range, sequence)})\n",
    "    pos_mutation.append({'pos_{}_mutation_stability'.format(pos): mutation_stability[aa]\n",
    "                         for pos, aa in zip(pos_range, sequence)})\n",
    "\n",
    "features_list.append(pd.DataFrame.from_records(pos_aa).fillna(0))\n",
    "features_list.append(pd.DataFrame.from_records(pos_basicity).fillna(0))\n",
    "features_list.append(pd.DataFrame.from_records(pos_hydro).fillna(0))\n",
    "features_list.append(pd.DataFrame.from_records(pos_helicity).fillna(0))\n",
    "features_list.append(pd.DataFrame.from_records(pos_pI).fillna(0))\n",
    "features_list.append(pd.DataFrame.from_records(pos_mutation).fillna(0))\n",
    "\n",
    "# combine all features\n",
    "features = pd.concat(features_list, axis=1)\n",
    "print('Samples: {} - features: {}'.format(features.shape[0], features.shape[1]))"
   ]
  },
  {
   "cell_type": "markdown",
   "metadata": {},
   "source": [
    "## Classification\n",
    "\n",
    "**TODO**: explain pipeline consisting of feature selection and classification\n",
    "**TODO**: explain repeated CV split to get a robust performance assessment"
   ]
  },
  {
   "cell_type": "code",
   "execution_count": 7,
   "metadata": {
    "collapsed": true
   },
   "outputs": [],
   "source": [
    "# run a single iteration of the predictor (extracted to a method for multithreaded computation)\n",
    "def run_predictor(predictor, X, y, train_index, test_index):\n",
    "    X_train, X_test = X[train_index], X[test_index]\n",
    "    y_train, y_test = y[train_index], y[test_index]\n",
    "    \n",
    "    # train the predictor pipeline\n",
    "    predictor.fit(X_train, y_train)\n",
    "    \n",
    "    # extract the relevant feature importances\n",
    "    importances = np.zeros(X.shape[1], float)\n",
    "    importances[predictor.named_steps['feature_selection'].support_] =\\\n",
    "        predictor.named_steps['classification'].feature_importances_\n",
    "    \n",
    "    # return the predictions to evaluate the performance\n",
    "    predictions_proba = predictor.predict_proba(X_test)[:, 1]\n",
    "    return (y_test, np.array(predictions_proba > 0.5, np.int)),\\\n",
    "           (y_test, predictions_proba),\\\n",
    "           importances"
   ]
  },
  {
   "cell_type": "code",
   "execution_count": 8,
   "metadata": {
    "collapsed": false
   },
   "outputs": [],
   "source": [
    "# create a prediction pipeline consisting of feature selection and classification\n",
    "classifier = ensemble.RandomForestClassifier(200, n_jobs=-1, random_state=0)\n",
    "predictor = pipeline.Pipeline([('feature_selection',\n",
    "                                BorutaPy(ensemble.ExtraTreesClassifier(n_jobs=-1),\n",
    "                                         n_estimators='auto', random_state=0)),\n",
    "                               ('classification', classifier)])"
   ]
  },
  {
   "cell_type": "code",
   "execution_count": 9,
   "metadata": {
    "collapsed": false
   },
   "outputs": [],
   "source": [
    "# turn off numpy RuntimeWarning\n",
    "with warnings.catch_warnings():\n",
    "    warnings.simplefilter(\"ignore\")\n",
    "    \n",
    "    # apply the prediction pipeline\n",
    "    features_noclass = features.drop('HLA_peptide', axis=1)\n",
    "    X = features_noclass.values\n",
    "    y = features['HLA_peptide'].values\n",
    "\n",
    "    # do multiple splits to get a more accurate evaluation of the performance\n",
    "    repeats = 100\n",
    "    sss = model_selection.StratifiedShuffleSplit(n_splits=repeats, test_size=0.2, random_state=0)\n",
    "\n",
    "    result = np.asarray(joblib.Parallel(n_jobs=-1)(joblib.delayed(run_predictor)\n",
    "                                                   (predictor, X, y, train_index, test_index)\n",
    "                                                   for train_index, test_index in sss.split(X, y)))\n",
    "    predictions = result[:, 0]\n",
    "    predictions_proba = result[:, 1]\n",
    "    feature_importances = result[:, 2]"
   ]
  },
  {
   "cell_type": "code",
   "execution_count": 10,
   "metadata": {
    "collapsed": false
   },
   "outputs": [
    {
     "name": "stdout",
     "output_type": "stream",
     "text": [
      "Classification accuracy = 75.90% ± 5.45%\n"
     ]
    },
    {
     "data": {
      "image/png": "[encoded data removed]",
      "text/plain": [
       "<matplotlib.figure.Figure at 0x10cd85940>"
      ]
     },
     "metadata": {},
     "output_type": "display_data"
    },
    {
     "data": {
      "image/png": "[encoded data removed]",
      "text/plain": [
       "<matplotlib.figure.Figure at 0x10d4fba20>"
      ]
     },
     "metadata": {},
     "output_type": "display_data"
    }
   ],
   "source": [
    "# evaluate the performance of the prediction pipeline\n",
    "# accuracy\n",
    "accuracy_mean = np.mean([metrics.accuracy_score(y_test, y_pred)\n",
    "                         for y_test, y_pred in predictions])\n",
    "accuracy_std = np.std([metrics.accuracy_score(y_test, y_pred)\n",
    "                       for y_test, y_pred in predictions])\n",
    "\n",
    "# AUC and average precision\n",
    "auc_mean = np.mean([metrics.roc_auc_score(y_test, y_pred)\n",
    "                    for y_test, y_pred in predictions_proba])\n",
    "auc_std = np.std([metrics.roc_auc_score(y_test, y_pred)\n",
    "                  for y_test, y_pred in predictions_proba])\n",
    "avg_precision_mean = np.mean([metrics.average_precision_score(y_test, y_pred)\n",
    "                              for y_test, y_pred in predictions_proba])\n",
    "avg_precision_std = np.std([metrics.average_precision_score(y_test, y_pred)\n",
    "                            for y_test, y_pred in predictions_proba])\n",
    "avg_precision_inverted_mean = np.mean([metrics.average_precision_score(1 - y_test, 1 - y_pred)\n",
    "                                       for y_test, y_pred in predictions_proba])\n",
    "avg_precision_inverted_std = np.std([metrics.average_precision_score(1 - y_test, 1 - y_pred)\n",
    "                                     for y_test, y_pred in predictions_proba])\n",
    "\n",
    "# mean and standard deviation of ROC and precision-recall curves\n",
    "interval = np.linspace(0, 1, 100)\n",
    "tprs, precisions, precisions_inverted = [], [], []\n",
    "for y_test, y_pred in predictions_proba:\n",
    "    fpr, tpr, _ = metrics.roc_curve(y_test, y_pred)\n",
    "    tprs.append(np.interp(interval, fpr, tpr))\n",
    "    \n",
    "    precision, recall, _ = metrics.precision_recall_curve(y_test, y_pred)\n",
    "    precisions.append(np.interp(interval, recall[::-1], precision))\n",
    "    \n",
    "    # inverted precision\n",
    "    precision_inverted, recall_inverted, _ = metrics.precision_recall_curve(1 - y_test, 1 - y_pred)\n",
    "    precisions_inverted.append(np.interp(interval, recall_inverted[::-1], precision_inverted))\n",
    "tpr_mean = np.mean(tprs, axis=0)\n",
    "tpr_mean[0], tpr_mean[-1] = 0.0, 1.0\n",
    "tpr_std = np.std(tprs, axis=0)\n",
    "precision_mean = np.mean(precisions, axis=0)\n",
    "precision_std = np.std(precisions, axis=0)\n",
    "precision_inverted_mean = np.mean(precisions_inverted, axis=0)\n",
    "precision_inverted_std = np.std(precisions_inverted, axis=0)\n",
    "\n",
    "# print accuracy\n",
    "print('Classification accuracy = {:.2%} ± {:.2%}'.format(accuracy_mean, accuracy_std))\n",
    "\n",
    "# plot ROC curve\n",
    "width, height = 3.3, 3.3\n",
    "\n",
    "plt.figure(figsize=(width, height))\n",
    "\n",
    "plt.plot(interval, tpr_mean, label='AUROC = {:.2f} ± {:.2f}'.format(auc_mean, auc_std))\n",
    "plt.fill_between(interval, tpr_mean - tpr_std, tpr_mean + tpr_std, alpha=0.5)\n",
    "\n",
    "plt.plot([0, 1], [0, 1], 'k--')\n",
    "\n",
    "plt.xlim([-0.05, 1.05])\n",
    "plt.ylim([-0.05, 1.05])\n",
    "\n",
    "plt.xlabel('False Positive Rate')\n",
    "plt.ylabel('True Positive Rate')\n",
    "\n",
    "plt.legend(loc='lower right')\n",
    "\n",
    "plt.gca().set_aspect('equal', adjustable='box')\n",
    "\n",
    "plt.savefig('AUC.pdf', bbox_inches='tight', dpi=600)\n",
    "\n",
    "plt.show()\n",
    "plt.close()\n",
    "\n",
    "# plot precision-recall curve\n",
    "plt.figure(figsize=(2 * width, height))\n",
    "\n",
    "ax1 = plt.subplot(121)\n",
    "\n",
    "ax1.set_title('FLKEKGGL')\n",
    "\n",
    "plt.plot(interval[::-1], precision_mean,\n",
    "         label='Mean PR = {:.2f} ± {:.2f}'.format(avg_precision_mean, avg_precision_std))\n",
    "plt.fill_between(interval[::-1], precision_mean - precision_std, precision_mean + precision_std,\n",
    "                 alpha=0.5)\n",
    "\n",
    "plt.xlim([-0.05, 1.05])\n",
    "plt.ylim([-0.05, 1.05])\n",
    "\n",
    "plt.xlabel('Recall')\n",
    "plt.ylabel('Precision')\n",
    "\n",
    "plt.legend(loc='lower right')\n",
    "\n",
    "ax2 = plt.subplot(122, sharey=ax1)\n",
    "\n",
    "plt.setp(ax2.get_yticklabels(), visible=False)\n",
    "\n",
    "ax2.set_title('EIYKRWII')\n",
    "\n",
    "plt.plot(interval[::-1], precision_inverted_mean,\n",
    "         label='Mean PR = {:.2f} ± {:.2f}'.format(avg_precision_inverted_mean, avg_precision_inverted_std))\n",
    "plt.fill_between(interval[::-1], precision_inverted_mean - precision_inverted_std,\n",
    "                 precision_inverted_mean + precision_inverted_std, alpha=0.5)\n",
    "\n",
    "plt.xlim([-0.05, 1.05])\n",
    "plt.ylim([-0.05, 1.05])\n",
    "\n",
    "plt.xlabel('Recall')\n",
    "\n",
    "plt.legend(loc='lower right')\n",
    "\n",
    "plt.savefig('PR.pdf', bbox_inches='tight', dpi=600)\n",
    "\n",
    "plt.show()\n",
    "plt.close()"
   ]
  },
  {
   "cell_type": "markdown",
   "metadata": {},
   "source": [
    "### Feature importance\n",
    "\n",
    "**TODO**: explain the most important features"
   ]
  },
  {
   "cell_type": "code",
   "execution_count": 11,
   "metadata": {
    "collapsed": false
   },
   "outputs": [],
   "source": [
    "feat_import_s = pd.Series(np.mean(feature_importances, axis=0),\n",
    "                          index=features_noclass.columns.values, name='Feature importances')\n",
    "significant_features = feat_import_s[feat_import_s > 0.01].sort_values(ascending=False)"
   ]
  },
  {
   "cell_type": "code",
   "execution_count": 12,
   "metadata": {
    "collapsed": false
   },
   "outputs": [
    {
     "name": "stdout",
     "output_type": "stream",
     "text": [
      "avg_basicity                0.137350\n",
      "avg_helicity                0.105305\n",
      "pos_1_helicity              0.102358\n",
      "pos_1_hydrophobicity        0.082974\n",
      "pos_2_basicity              0.080863\n",
      "count_R                     0.069032\n",
      "pos_3_mutation_stability    0.063179\n",
      "avg_hydrophobicity          0.040724\n",
      "pos_2_helicity              0.040645\n",
      "pos_0_hydrophobicity        0.038702\n",
      "length                      0.036358\n",
      "pos_3_hydrophobicity        0.033291\n",
      "avg_mutation_stability      0.032128\n",
      "pos_1_basicity              0.029568\n",
      "pos_-4_S                    0.019961\n",
      "pos_4_S                     0.013550\n",
      "Name: Feature importances, dtype: float64\n"
     ]
    },
    {
     "data": {
      "image/png": "[encoded data removed]",
      "text/plain": [
       "<matplotlib.figure.Figure at 0x10765b828>"
      ]
     },
     "metadata": {},
     "output_type": "display_data"
    }
   ],
   "source": [
    "plt.figure(figsize=(width, height))\n",
    "\n",
    "sns.barplot(x=significant_features.index.values, y=significant_features, palette='Blues_d')\n",
    "\n",
    "plt.xticks(rotation='vertical', fontsize=10)\n",
    "plt.ylabel('Feature importance')\n",
    "\n",
    "plt.savefig('feature_importance.pdf', bbox_inches='tight', dpi=600)\n",
    "\n",
    "print(significant_features)"
   ]
  },
  {
   "cell_type": "markdown",
   "metadata": {},
   "source": [
    "### Learning curve\n",
    "\n",
    "**TODO**: show that more data would be better"
   ]
  },
  {
   "cell_type": "code",
   "execution_count": 13,
   "metadata": {
    "collapsed": false
   },
   "outputs": [],
   "source": [
    "# compute the learning curve\n",
    "selected_features = np.mean(feature_importances, axis=0) > 0.01\n",
    "X_filtered = X[:, selected_features]\n",
    "train_sizes, train_scores, test_scores = model_selection.learning_curve(\n",
    "    classifier, X_filtered, y, train_sizes=np.linspace(.1, 1., 10), scoring='roc_auc', n_jobs=-1,\n",
    "    cv=model_selection.StratifiedShuffleSplit(n_splits=100, test_size=0.2, random_state=0))\n",
    "train_scores_mean = np.mean(train_scores, axis=1)\n",
    "train_scores_std = np.std(train_scores, axis=1)\n",
    "test_scores_mean = np.mean(test_scores, axis=1)\n",
    "test_scores_std = np.std(test_scores, axis=1)"
   ]
  },
  {
   "cell_type": "code",
   "execution_count": 14,
   "metadata": {
    "collapsed": false
   },
   "outputs": [
    {
     "data": {
      "image/png": "[encoded data removed]",
      "text/plain": [
       "<matplotlib.figure.Figure at 0x10e7347f0>"
      ]
     },
     "metadata": {},
     "output_type": "display_data"
    }
   ],
   "source": [
    "# plot the learning curve\n",
    "plt.figure(figsize=(width, height))\n",
    "\n",
    "plt.fill_between(train_sizes, train_scores_mean - train_scores_std,\n",
    "                 train_scores_mean + train_scores_std, alpha=0.2, color=sns.color_palette()[0])\n",
    "plt.plot(train_sizes, train_scores_mean, 'o-', label='Training score')\n",
    "\n",
    "plt.fill_between(train_sizes, test_scores_mean - test_scores_std,\n",
    "                 test_scores_mean + test_scores_std, alpha=0.2, color=sns.color_palette()[1])\n",
    "plt.plot(train_sizes, test_scores_mean, 'o-', label='Cross-validation score')\n",
    "\n",
    "plt.xlabel('Training set size')\n",
    "plt.ylabel('Score')\n",
    "\n",
    "plt.ylim(0.5, 1.05)\n",
    "\n",
    "plt.legend(loc='lower right')\n",
    "\n",
    "plt.savefig('learning_curve.pdf', bbox_inches='tight', dpi=600)"
   ]
  },
  {
   "cell_type": "code",
   "execution_count": null,
   "metadata": {
    "collapsed": true
   },
   "outputs": [],
   "source": []
  }
 ],
 "metadata": {
  "kernelspec": {
   "display_name": "Python 3",
   "language": "python",
   "name": "python3"
  },
  "language_info": {
   "codemirror_mode": {
    "name": "ipython",
    "version": 3
   },
   "file_extension": ".py",
   "mimetype": "text/x-python",
   "name": "python",
   "nbconvert_exporter": "python",
   "pygments_lexer": "ipython3",
   "version": "3.5.1"
  },
  "latex_envs": {
   "bibliofile": "biblio.bib",
   "cite_by": "apalike",
   "current_citInitial": 1,
   "eqLabelWithNumbers": true,
   "eqNumInitial": 0
  }
 },
 "nbformat": 4,
 "nbformat_minor": 1
}
